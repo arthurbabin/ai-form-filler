{
 "cells": [
  {
   "cell_type": "code",
   "execution_count": 2,
   "metadata": {},
   "outputs": [
    {
     "name": "stdout",
     "output_type": "stream",
     "text": [
      "resume file\n",
      "name text\n",
      "email email\n",
      "phone text\n",
      "location text\n",
      "selectedLocation hidden\n",
      "org text\n",
      "cards[a6a97378-59b0-421f-a4c9-76737b41fee1][baseTemplate] hidden\n",
      "cards[a6a97378-59b0-421f-a4c9-76737b41fee1][field0] radio\n",
      "cards[a6a97378-59b0-421f-a4c9-76737b41fee1][field0] radio\n",
      "cards[cc52355f-705b-40f9-9160-c9ff7fcbf769][baseTemplate] hidden\n",
      "cards[cc52355f-705b-40f9-9160-c9ff7fcbf769][field0] radio\n",
      "cards[cc52355f-705b-40f9-9160-c9ff7fcbf769][field0] radio\n",
      "surveysResponses[fc802a09-b71e-40bd-a979-34722f5246c1][baseTemplate] hidden\n",
      "surveysResponses[fc802a09-b71e-40bd-a979-34722f5246c1][surveyId] hidden\n",
      " hidden\n",
      "surveysResponses[fc802a09-b71e-40bd-a979-34722f5246c1][responses][field0] checkbox\n",
      "surveysResponses[fc802a09-b71e-40bd-a979-34722f5246c1][responses][field0] checkbox\n",
      "surveysResponses[fc802a09-b71e-40bd-a979-34722f5246c1][responses][field0] checkbox\n",
      "surveysResponses[fc802a09-b71e-40bd-a979-34722f5246c1][responses][field0] checkbox\n",
      "surveysResponses[fc802a09-b71e-40bd-a979-34722f5246c1][responses][field0] checkbox\n",
      "surveysResponses[fc802a09-b71e-40bd-a979-34722f5246c1][responses][field0] checkbox\n",
      "surveysResponses[fc802a09-b71e-40bd-a979-34722f5246c1][responses][field0] checkbox\n",
      "surveysResponses[fc802a09-b71e-40bd-a979-34722f5246c1][responses][field0] checkbox\n",
      "surveysResponses[fc802a09-b71e-40bd-a979-34722f5246c1][responses][field0] checkbox\n",
      "surveysResponses[fc802a09-b71e-40bd-a979-34722f5246c1][responses][field1] radio\n",
      "surveysResponses[fc802a09-b71e-40bd-a979-34722f5246c1][responses][field1] radio\n",
      "surveysResponses[fc802a09-b71e-40bd-a979-34722f5246c1][responses][field1] radio\n",
      "accountId hidden\n",
      "linkedInData hidden\n",
      "origin hidden\n",
      "referer hidden\n",
      "socialReferralKey hidden\n",
      "socialSource hidden\n",
      "resumeStorageId hidden\n",
      "h-captcha-response hidden\n",
      "source hidden\n",
      "consent[marketing] hidden\n",
      "consent[marketing] checkbox\n"
     ]
    }
   ],
   "source": [
    "import requests\n",
    "from bs4 import BeautifulSoup\n",
    "\n",
    "url = 'https://jobs.lever.co/ekimetrics/c62e4fd4-acd5-4860-857a-15a6797696be/apply'\n",
    "response = requests.get(url)\n",
    "soup = BeautifulSoup(response.text, 'html.parser')\n",
    "\n",
    "# Find all form inputs\n",
    "form_inputs = soup.find_all('input')\n",
    "for input_field in form_inputs:\n",
    "    print(input_field.get('name'), input_field.get('type'))"
   ]
  },
  {
   "cell_type": "code",
   "execution_count": 8,
   "metadata": {},
   "outputs": [
    {
     "name": "stdout",
     "output_type": "stream",
     "text": [
      "{'name': None, 'phone': None, 'location': None, 'org': None}\n"
     ]
    }
   ],
   "source": [
    "dict = {}\n",
    "\n",
    "for input_field in form_inputs:\n",
    "    if input_field.get('type') == 'text':\n",
    "        dict[input_field.get('name')] = input_field.get('value')\n",
    "\n",
    "print(dict)\n",
    "dict[\"name\"]= \"Wandrille\""
   ]
  },
  {
   "cell_type": "code",
   "execution_count": 9,
   "metadata": {},
   "outputs": [],
   "source": [
    "DynamicFormClass = type(\n",
    "    'DynamicForm',  # Class name\n",
    "    (object,),      # Base classes\n",
    "    dict     # Dictionary of attributes\n",
    ")\n",
    "\n",
    "# Instantiate the class\n",
    "form_instance = DynamicFormClass()"
   ]
  },
  {
   "cell_type": "code",
   "execution_count": 10,
   "metadata": {},
   "outputs": [
    {
     "data": {
      "text/plain": [
       "'Wandrille'"
      ]
     },
     "execution_count": 10,
     "metadata": {},
     "output_type": "execute_result"
    }
   ],
   "source": [
    "form_instance.name"
   ]
  },
  {
   "cell_type": "code",
   "execution_count": 3,
   "metadata": {},
   "outputs": [
    {
     "ename": "ModuleNotFoundError",
     "evalue": "No module named 'llama_index.llms.ollama'",
     "output_type": "error",
     "traceback": [
      "\u001b[0;31m---------------------------------------------------------------------------\u001b[0m",
      "\u001b[0;31mModuleNotFoundError\u001b[0m                       Traceback (most recent call last)",
      "Cell \u001b[0;32mIn[3], line 1\u001b[0m\n\u001b[0;32m----> 1\u001b[0m \u001b[38;5;28;01mfrom\u001b[39;00m \u001b[38;5;21;01mllama_index\u001b[39;00m\u001b[38;5;21;01m.\u001b[39;00m\u001b[38;5;21;01mllms\u001b[39;00m\u001b[38;5;21;01m.\u001b[39;00m\u001b[38;5;21;01mollama\u001b[39;00m \u001b[38;5;28;01mimport\u001b[39;00m Ollama\n\u001b[1;32m      2\u001b[0m \u001b[38;5;28;01mfrom\u001b[39;00m \u001b[38;5;21;01mllama_index\u001b[39;00m\u001b[38;5;21;01m.\u001b[39;00m\u001b[38;5;21;01mcore\u001b[39;00m\u001b[38;5;21;01m.\u001b[39;00m\u001b[38;5;21;01mprogram\u001b[39;00m \u001b[38;5;28;01mimport\u001b[39;00m LLMTextCompletionProgram\n\u001b[1;32m      4\u001b[0m llm \u001b[38;5;241m=\u001b[39m Ollama(model\u001b[38;5;241m=\u001b[39m\u001b[38;5;124m\"\u001b[39m\u001b[38;5;124mllama3.1:latest\u001b[39m\u001b[38;5;124m\"\u001b[39m, request_timeout\u001b[38;5;241m=\u001b[39m\u001b[38;5;241m120.0\u001b[39m)\n",
      "\u001b[0;31mModuleNotFoundError\u001b[0m: No module named 'llama_index.llms.ollama'"
     ]
    }
   ],
   "source": [
    "from llama_index.llms.ollama import Ollama\n",
    "from llama_index.core.program import LLMTextCompletionProgram\n",
    "\n",
    "llm = Ollama(model=\"llama3.1:latest\", request_timeout=120.0)"
   ]
  },
  {
   "cell_type": "code",
   "execution_count": null,
   "metadata": {},
   "outputs": [],
   "source": []
  }
 ],
 "metadata": {
  "kernelspec": {
   "display_name": ".venv",
   "language": "python",
   "name": "python3"
  },
  "language_info": {
   "codemirror_mode": {
    "name": "ipython",
    "version": 3
   },
   "file_extension": ".py",
   "mimetype": "text/x-python",
   "name": "python",
   "nbconvert_exporter": "python",
   "pygments_lexer": "ipython3",
   "version": "3.11.10"
  }
 },
 "nbformat": 4,
 "nbformat_minor": 2
}
